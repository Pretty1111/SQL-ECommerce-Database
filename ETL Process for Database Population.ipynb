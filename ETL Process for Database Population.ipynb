{
 "cells": [
  {
   "cell_type": "code",
   "execution_count": 4,
   "id": "755cff8c",
   "metadata": {},
   "outputs": [],
   "source": [
    "import requests\n",
    "from bs4 import BeautifulSoup\n",
    "import mysql.connector\n",
    "\n",
    "# Connect to the database\n",
    "db = mysql.connector.connect(\n",
    "    host=\"localhost\",\n",
    "    user=\"***\",\n",
    "    password=\"***\",\n",
    "    database=\"ECommerce\"\n",
    ")\n",
    "cursor = db.cursor()\n",
    "\n",
    "BASE_URL = \"https://books.toscrape.com/\""
   ]
  },
  {
   "cell_type": "code",
   "execution_count": 5,
   "id": "3717f25f",
   "metadata": {},
   "outputs": [],
   "source": [
    "# Define BASE_URL and Helper Functions\n",
    "BASE_URL = \"https://books.toscrape.com/\"\n",
    "\n",
    "rating_classes = {\n",
    "    \"One\": 1,\n",
    "    \"Two\": 2,\n",
    "    \"Three\": 3,\n",
    "    \"Four\": 4,\n",
    "    \"Five\": 5\n",
    "}\n"
   ]
  },
  {
   "cell_type": "code",
   "execution_count": 8,
   "id": "f1923867",
   "metadata": {},
   "outputs": [],
   "source": [
    "# Extract - Retrieve Data from Website\n",
    "for category_link in category_links:\n",
    "    while category_link:\n",
    "        response = requests.get(category_link)\n",
    "        soup = BeautifulSoup(response.content, 'html.parser')\n",
    "        \n",
    "        books = soup.find_all(\"article\", class_=\"product_pod\")\n",
    "        for book in books:\n",
    "            title = book.h3.a.attrs['title']\n",
    "            price = float(book.select_one('.price_color').text[1:])\n",
    "            rating_class = book.select_one(\".star-rating\").get(\"class\")[1]\n",
    "            availability = book.select_one('.instock.availability').text.strip()\n",
    "            image_url = BASE_URL + book.select_one('img')['src'].lstrip('../')\n",
    "            genre = soup.h1.text.strip()\n",
    "\n",
    "            raw_books_data.append((title, genre, price, rating_class, availability, image_url))\n",
    "        \n",
    "        # Check for the next page link and update category_link; if not found, set category_link to None\n",
    "        next_link = soup.select_one('.next a')\n",
    "        category_link = BASE_URL + next_link['href'] if next_link else None\n"
   ]
  },
  {
   "cell_type": "code",
   "execution_count": 9,
   "id": "367bf79e",
   "metadata": {},
   "outputs": [],
   "source": [
    "# Transform - Process Raw Data\n",
    "\n",
    "books_data = []\n",
    "\n",
    "for raw_book in raw_books_data:\n",
    "    title, genre, price, rating_class, availability, image_url = raw_book\n",
    "    star_rating = rating_classes.get(rating_class, 0)\n",
    "\n",
    "    books_data.append((title, genre, price, star_rating, availability, image_url))\n"
   ]
  },
  {
   "cell_type": "code",
   "execution_count": 13,
   "id": "cfe9955e",
   "metadata": {},
   "outputs": [],
   "source": [
    "#Load - Insert Data into the Database\n",
    "genres = {}  # Stores genre names and their corresponding IDs\n",
    "\n",
    "for data in books_data:\n",
    "    title, genre, price, star_rating, availability, image_url = data\n",
    "\n",
    "    if genre not in genres:\n",
    "        cursor.execute(\"SELECT genre_id FROM genres WHERE genre_name = %s\", (genre,))\n",
    "        genre_id = cursor.fetchone()\n",
    "        if not genre_id:\n",
    "            cursor.execute(\"INSERT INTO genres (genre_name) VALUES (%s)\", (genre,))\n",
    "            db.commit()\n",
    "            genre_id = cursor.lastrowid\n",
    "        else:\n",
    "            genre_id = genre_id[0]\n",
    "        genres[genre] = genre_id\n",
    "\n",
    "    insert_query = \"\"\"\n",
    "        INSERT INTO products (product_name, genre_id, price, star_rating, availability, image_url) \n",
    "        VALUES (%s, %s, %s, %s, %s, %s) ON DUPLICATE KEY UPDATE \n",
    "        price = VALUES(price), star_rating = VALUES(star_rating), availability = VALUES(availability), image_url = VALUES(image_url);\n",
    "    \"\"\"\n",
    "    try:\n",
    "        cursor.execute(insert_query, (title, genres[genre], price, star_rating, availability, image_url))\n",
    "        db.commit() \n",
    "    except mysql.connector.Error as err:\n",
    "        print(f\"Error: {err}\")\n",
    "        db.rollback()\n"
   ]
  },
  {
   "cell_type": "code",
   "execution_count": 12,
   "id": "1752a2d2",
   "metadata": {},
   "outputs": [
    {
     "name": "stdout",
     "output_type": "stream",
     "text": [
      "(1, \"It's Only the Himalayas\", 1, Decimal('45.17'), 2, 'https://books.toscrape.com/media/cache/27/a5/27a53d0bb95bdd88288eaf66c9230d7e.jpg', 'In stock')\n",
      "(2, 'Full Moon over Noah’s Ark: An Odyssey to Mount Ararat and Beyond', 1, Decimal('49.43'), 4, 'https://books.toscrape.com/media/cache/57/77/57770cac1628f4407636635f4b85e88c.jpg', 'In stock')\n",
      "(3, 'See America: A Celebration of Our National Parks & Treasured Sites', 1, Decimal('48.87'), 3, 'https://books.toscrape.com/media/cache/9a/7e/9a7e63f12829df4b43b31d110bf3dc2e.jpg', 'In stock')\n",
      "(4, 'Vagabonding: An Uncommon Guide to the Art of Long-Term World Travel', 1, Decimal('36.94'), 2, 'https://books.toscrape.com/media/cache/d5/bf/d5bf0090470b0b8ea46d9c166f7895aa.jpg', 'In stock')\n",
      "(5, 'Under the Tuscan Sun', 1, Decimal('37.33'), 3, 'https://books.toscrape.com/media/cache/98/c2/98c2e95c5fd1a4e7cd5f2b63c52826cb.jpg', 'In stock')\n"
     ]
    }
   ],
   "source": [
    "cursor.execute(\"SELECT * FROM products LIMIT 5\")  # Fetches the first 5 rows from the products table.\n",
    "results = cursor.fetchall()\n",
    "\n",
    "for row in results:\n",
    "    print(row)"
   ]
  },
  {
   "cell_type": "code",
   "execution_count": 14,
   "id": "a5c8dbfd",
   "metadata": {},
   "outputs": [],
   "source": [
    "cursor.close()\n",
    "db.close()  "
   ]
  },
  {
   "cell_type": "code",
   "execution_count": null,
   "id": "5e9d49cf",
   "metadata": {},
   "outputs": [],
   "source": []
  }
 ],
 "metadata": {
  "kernelspec": {
   "display_name": "Python 3 (ipykernel)",
   "language": "python",
   "name": "python3"
  },
  "language_info": {
   "codemirror_mode": {
    "name": "ipython",
    "version": 3
   },
   "file_extension": ".py",
   "mimetype": "text/x-python",
   "name": "python",
   "nbconvert_exporter": "python",
   "pygments_lexer": "ipython3",
   "version": "3.10.9"
  }
 },
 "nbformat": 4,
 "nbformat_minor": 5
}
